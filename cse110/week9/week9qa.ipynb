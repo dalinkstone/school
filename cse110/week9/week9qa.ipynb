{
 "cells": [
  {
   "cell_type": "code",
   "execution_count": 10,
   "metadata": {},
   "outputs": [
    {
     "data": {
      "text/plain": [
       "{'AAPL': {'language': 'en-US',\n",
       "  'region': 'US',\n",
       "  'quoteType': 'EQUITY',\n",
       "  'typeDisp': 'Equity',\n",
       "  'quoteSourceName': 'Delayed Quote',\n",
       "  'triggerable': True,\n",
       "  'customPriceAlertConfidence': 'HIGH',\n",
       "  'currency': 'USD',\n",
       "  'marketState': 'CLOSED',\n",
       "  'exchange': 'NMS',\n",
       "  'shortName': 'Apple Inc.',\n",
       "  'longName': 'Apple Inc.',\n",
       "  'messageBoardId': 'finmb_24937',\n",
       "  'exchangeTimezoneName': 'America/New_York',\n",
       "  'exchangeTimezoneShortName': 'EST',\n",
       "  'gmtOffSetMilliseconds': -18000000,\n",
       "  'market': 'us_market',\n",
       "  'esgPopulated': False,\n",
       "  'regularMarketChangePercent': -0.75467026,\n",
       "  'regularMarketPrice': 152.55,\n",
       "  'epsTrailingTwelveMonths': 5.89,\n",
       "  'epsForward': 6.58,\n",
       "  'epsCurrentYear': 5.97,\n",
       "  'priceEpsCurrentYear': 25.552765,\n",
       "  'sharesOutstanding': 15821899776,\n",
       "  'bookValue': 3.581,\n",
       "  'fiftyDayAverage': 140.098,\n",
       "  'fiftyDayAverageChange': 12.451996,\n",
       "  'fiftyDayAverageChangePercent': 0.088880606,\n",
       "  'twoHundredDayAverage': 147.39375,\n",
       "  'twoHundredDayAverageChange': 5.15625,\n",
       "  'twoHundredDayAverageChangePercent': 0.034982827,\n",
       "  'marketCap': 2413630849024,\n",
       "  'forwardPE': 23.183891,\n",
       "  'priceToBook': 42.59983,\n",
       "  'sourceInterval': 15,\n",
       "  'exchangeDataDelayedBy': 0,\n",
       "  'averageAnalystRating': '1.9 - Buy',\n",
       "  'tradeable': False,\n",
       "  'cryptoTradeable': False,\n",
       "  'postMarketChangePercent': 0.058994647,\n",
       "  'postMarketTime': 1676681997,\n",
       "  'postMarketPrice': 152.64,\n",
       "  'postMarketChange': 0.08999634,\n",
       "  'regularMarketChange': -1.1600037,\n",
       "  'regularMarketTime': 1676667604,\n",
       "  'regularMarketDayHigh': 153.0,\n",
       "  'regularMarketDayRange': '150.85 - 153.0',\n",
       "  'regularMarketDayLow': 150.85,\n",
       "  'regularMarketVolume': 59144118,\n",
       "  'regularMarketPreviousClose': 153.71,\n",
       "  'bid': 152.56,\n",
       "  'ask': 152.64,\n",
       "  'bidSize': 10,\n",
       "  'askSize': 22,\n",
       "  'fullExchangeName': 'NasdaqGS',\n",
       "  'financialCurrency': 'USD',\n",
       "  'regularMarketOpen': 152.35,\n",
       "  'averageDailyVolume3Month': 75166090,\n",
       "  'averageDailyVolume10Day': 64755690,\n",
       "  'fiftyTwoWeekLowChange': 28.380005,\n",
       "  'fiftyTwoWeekLowChangePercent': 0.22855766,\n",
       "  'fiftyTwoWeekRange': '124.17 - 179.61',\n",
       "  'fiftyTwoWeekHighChange': -27.059998,\n",
       "  'fiftyTwoWeekHighChangePercent': -0.15065975,\n",
       "  'fiftyTwoWeekLow': 124.17,\n",
       "  'fiftyTwoWeekHigh': 179.61,\n",
       "  'dividendDate': 1676505600,\n",
       "  'earningsTimestamp': 1675375200,\n",
       "  'earningsTimestampStart': 1682506740,\n",
       "  'earningsTimestampEnd': 1682942400,\n",
       "  'trailingAnnualDividendRate': 0.91,\n",
       "  'trailingPE': 25.899832,\n",
       "  'trailingAnnualDividendYield': 0.0059202393,\n",
       "  'firstTradeDateMilliseconds': 345479400000,\n",
       "  'priceHint': 2,\n",
       "  'displayName': 'Apple'}}"
      ]
     },
     "execution_count": 10,
     "metadata": {},
     "output_type": "execute_result"
    }
   ],
   "source": [
    "from yahooquery import Ticker\n",
    "\n",
    "apl = Ticker('AAPL')\n",
    "\n",
    "print(apl.quotes)"
   ]
  },
  {
   "cell_type": "code",
   "execution_count": null,
   "metadata": {},
   "outputs": [],
   "source": []
  }
 ],
 "metadata": {
  "kernelspec": {
   "display_name": "Python 3",
   "language": "python",
   "name": "python3"
  },
  "language_info": {
   "codemirror_mode": {
    "name": "ipython",
    "version": 3
   },
   "file_extension": ".py",
   "mimetype": "text/x-python",
   "name": "python",
   "nbconvert_exporter": "python",
   "pygments_lexer": "ipython3",
   "version": "3.11.1"
  },
  "orig_nbformat": 4,
  "vscode": {
   "interpreter": {
    "hash": "7fee2be257a59add0d8d629b22efb89d0cc5d5a58a5d08fe097e1231515c9ce8"
   }
  }
 },
 "nbformat": 4,
 "nbformat_minor": 2
}
